{
 "cells": [
  {
   "cell_type": "code",
   "execution_count": 37,
   "metadata": {},
   "outputs": [],
   "source": [
    "import os, json\n",
    "import googleapiclient.discovery\n",
    "from google.oauth2 import service_account\n"
   ]
  },
  {
   "cell_type": "code",
   "execution_count": 58,
   "metadata": {},
   "outputs": [],
   "source": [
    "default = [\n",
    "    \"asia-east1-a\", \"asia-east2-a\",\"asia-northeast1-a\", \"asia-northeast2-a\", \"asia-northeast3-a\", \"asia-south1-a\",\"asia-south2-a\", \"asia-southeast1-a\", \"asia-southeast2-a\",\"australia-southeast1-a\", \"australia-southeast2-a\",\"europe-central2-a\", \"europe-north1-a\", \"europe-west1-d\", \"europe-west2-a\",\"europe-west3-a\", \"europe-west4-a\", \"europe-west6-a\",\"northamerica-northeast1-a\", \"southamerica-east1-a\",\"us-central1-a\", \"us-central1-f\", \"us-east1-d\",\"us-east4-a\", \"us-west1-a\", \"us-west2-a\",\"us-west3-a\", \"us-west4-a\"]\n"
   ]
  },
  {
   "cell_type": "code",
   "execution_count": 62,
   "metadata": {},
   "outputs": [],
   "source": [
    "vms=[]\n",
    "ips=[]"
   ]
  },
  {
   "cell_type": "code",
   "execution_count": 67,
   "metadata": {},
   "outputs": [],
   "source": [
    "SERVICE_ACCOUNT_FILE = 'allcloud2-83b35ff788b7.json'\n",
    "\n",
    "# Authenticate using the service account key file\n",
    "credentials = service_account.Credentials.from_service_account_file(\n",
    "    SERVICE_ACCOUNT_FILE, scopes=['https://www.googleapis.com/auth/cloud-platform']\n",
    ")\n",
    "\n",
    "\n",
    "compute = googleapiclient.discovery.build('compute', 'v1',credentials=credentials)\n",
    "\n",
    "def list_instances(compute, project, zone):\n",
    "    result = compute.instances().list(project=project, zone=zone).execute()\n",
    "    return result['items'] if 'items' in result else None\n",
    "\n"
   ]
  },
  {
   "cell_type": "code",
   "execution_count": 68,
   "metadata": {},
   "outputs": [
    {
     "name": "stdout",
     "output_type": "stream",
     "text": [
      "{'asia-east2-a', '35.241.125.48'}\n",
      "{'asia-northeast2-a', '34.97.236.197'}\n",
      "{'asia-southeast2-a', '34.101.249.244'}\n",
      "{'34.116.169.172', 'europe-central2-a'}\n",
      "{'35.228.13.43', 'europe-north1-a'}\n",
      "{'europe-west1-d', '35.195.144.149'}\n",
      "{'35.230.148.134', 'europe-west2-a'}\n",
      "{'europe-west6-a', '34.65.33.71'}\n",
      "{'northamerica-northeast1-a', '34.152.41.243'}\n",
      "{'104.197.149.181', 'us-central1-a'}\n",
      "{'us-west4-a', '34.125.250.154'}\n"
     ]
    }
   ],
   "source": [
    "for i in default:\n",
    "    ins=list_instances(compute, \"allcloud-396609\", i)\n",
    "    try:\n",
    "        \n",
    "        print({ins[0]['name'],ins[0][\"networkInterfaces\"][0][\"accessConfigs\"][0][\"natIP\"]})\n",
    "        vms.append(ins[0]['name'])\n",
    "        ips.append(ins[0][\"networkInterfaces\"][0][\"accessConfigs\"][0][\"natIP\"])\n",
    "    except:\n",
    "        pass"
   ]
  },
  {
   "cell_type": "code",
   "execution_count": 69,
   "metadata": {},
   "outputs": [
    {
     "name": "stdout",
     "output_type": "stream",
     "text": [
      "['35.187.212.210', '34.64.101.58', '34.131.17.112', '34.129.128.242', '104.197.117.149', '34.106.240.231', '35.241.125.48', '34.97.236.197', '34.101.249.244', '34.116.169.172', '35.228.13.43', '35.195.144.149', '35.230.148.134', '34.65.33.71', '34.152.41.243', '104.197.149.181', '34.125.250.154']\n",
      "['asia-northeast1-a', 'asia-northeast3-a', 'asia-south2-a', 'australia-southeast2-a', 'slogrcontroller', 'us-west3-a', 'asia-east2-a', 'asia-northeast2-a', 'asia-southeast2-a', 'europe-central2-a', 'europe-north1-a', 'europe-west1-d', 'europe-west2-a', 'europe-west6-a', 'northamerica-northeast1-a', 'us-central1-a', 'us-west4-a']\n"
     ]
    }
   ],
   "source": [
    "print(ips)\n",
    "print(vms)"
   ]
  },
  {
   "cell_type": "code",
   "execution_count": null,
   "metadata": {},
   "outputs": [],
   "source": []
  }
 ],
 "metadata": {
  "kernelspec": {
   "display_name": "Python 3",
   "language": "python",
   "name": "python3"
  },
  "language_info": {
   "codemirror_mode": {
    "name": "ipython",
    "version": 3
   },
   "file_extension": ".py",
   "mimetype": "text/x-python",
   "name": "python",
   "nbconvert_exporter": "python",
   "pygments_lexer": "ipython3",
   "version": "3.8.0"
  },
  "orig_nbformat": 4
 },
 "nbformat": 4,
 "nbformat_minor": 2
}
