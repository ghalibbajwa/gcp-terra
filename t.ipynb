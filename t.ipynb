{
 "cells": [
  {
   "cell_type": "code",
   "execution_count": 14,
   "metadata": {},
   "outputs": [],
   "source": [
    "import requests\n",
    "import json\n",
    "import time\n",
    "url = \"http://104.197.117.149//register_agent\""
   ]
  },
  {
   "cell_type": "code",
   "execution_count": 10,
   "metadata": {},
   "outputs": [],
   "source": [
    "vms=['asia-northeast1-a', 'asia-northeast3-a', 'asia-south2-a', 'australia-southeast2-a', 'us-west3-a', 'asia-east2-a', 'asia-northeast2-a', 'asia-southeast2-a', 'europe-central2-a', 'europe-north1-a', 'europe-west1-d', 'europe-west2-a', 'europe-west6-a', 'northamerica-northeast1-a', 'us-central1-a', 'us-west4-a', 'asia-east1-a', 'asia-south1-a', 'asia-southeast1-a', 'australia-southeast1-a', 'europe-west3-a', 'europe-west4-a', 'southamerica-east1-a', 'us-central1-f', 'us-east1-d', 'us-east4-a', 'us-west1-a', 'us-west2-a']"
   ]
  },
  {
   "cell_type": "code",
   "execution_count": 11,
   "metadata": {},
   "outputs": [],
   "source": [
    "ips=['35.187.212.210', '34.64.101.58', '34.131.17.112', '34.129.128.242',  '34.106.240.231', '35.241.125.48', '34.97.236.197', '34.101.249.244', '34.116.169.172', '35.228.13.43', '35.195.144.149', '35.230.148.134', '34.65.33.71', '34.152.41.243', '104.197.149.181', '34.125.250.154', '35.229.251.91', '34.100.193.185', '34.87.84.175', '34.116.100.108', '34.159.255.36', '35.204.164.131', '34.95.163.25', '35.193.129.67', '35.237.111.199', '35.221.50.124', '35.227.157.158', '34.102.43.66']"
   ]
  },
  {
   "cell_type": "code",
   "execution_count": 15,
   "metadata": {},
   "outputs": [],
   "source": [
    "\n",
    "def register(name,ip):\n",
    "    payload = json.dumps({\n",
    "    \"name\": name,\n",
    "    \"ipaddress\": ip,\n",
    "    \"platform\": \"Linux\",\n",
    "    \"location\": name,\n",
    "    \"machine_name\": name,\n",
    "    \"arch\": \"x86_64\",\n",
    "    \"processor\": \"Intel Core i7\",\n",
    "    \"machine\": \"vm\"\n",
    "    })\n",
    "    headers = {\n",
    "    'Content-Type': 'application/json',\n",
    "    'Cookie': 'XSRF-TOKEN=eyJpdiI6IkZCMlRkMUhUTUhSVFNPNlFSckFJOVE9PSIsInZhbHVlIjoia1FnWnM2SVJmd0U2aCtEOTEyVGwwRWN3Rm1DN0tvS2JIZmJtVWd2K3lhS3BjeDMrUmtRaE5vbmpISWswT1VWZCIsIm1hYyI6IjdkZDY1ZDk2OTMyNmNhZTE0OTM4OGY2ZDgyNDllYWUwZmQ2YjUzYTdmYTYxODEyYWNiNWRkZGY3M2FhNzM0ZDEifQ%3D%3D; laravel_session=eyJpdiI6Ik5XdWtBcHZmc1MwNFVGSWFVV0xSYlE9PSIsInZhbHVlIjoiUHY2YmRZWXlNYmU4OXpGM216OEw5UzFLbE51MGRaWTFFWFwvanlWcDNnXC9Xckx6RkJZVEd2NDFKblNXckR2QVwvXC8iLCJtYWMiOiJlM2EzZDRiOGFlOTE3OTgzZGJmZDIzMzg3ZmJkMmEyNzUyMzFlOWQ0MDU3NzBkY2VhNWI3MTM1MDUyMDk4YzZhIn0%3D'\n",
    "    }\n",
    "\n",
    "    response = requests.request(\"POST\", url, headers=headers, data=payload)\n",
    "\n",
    "    print(response.text)\n"
   ]
  },
  {
   "cell_type": "code",
   "execution_count": null,
   "metadata": {},
   "outputs": [],
   "source": [
    "for i in range(len(ips)):\n",
    "    "
   ]
  }
 ],
 "metadata": {
  "kernelspec": {
   "display_name": "Python 3",
   "language": "python",
   "name": "python3"
  },
  "language_info": {
   "codemirror_mode": {
    "name": "ipython",
    "version": 3
   },
   "file_extension": ".py",
   "mimetype": "text/x-python",
   "name": "python",
   "nbconvert_exporter": "python",
   "pygments_lexer": "ipython3",
   "version": "3.8.0"
  },
  "orig_nbformat": 4,
  "vscode": {
   "interpreter": {
    "hash": "74b810b0469f31e4a9a49cf463fa7093a9e91884c4b136ffc9bac8f7d9a0d814"
   }
  }
 },
 "nbformat": 4,
 "nbformat_minor": 2
}
