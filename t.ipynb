{
 "cells": [
  {
   "cell_type": "code",
   "execution_count": 3,
   "metadata": {},
   "outputs": [],
   "source": [
    "import json\n"
   ]
  },
  {
   "cell_type": "code",
   "execution_count": 4,
   "metadata": {},
   "outputs": [],
   "source": [
    "f = open('zones.json')\n",
    "data = json.load(f)\n"
   ]
  },
  {
   "cell_type": "code",
   "execution_count": 13,
   "metadata": {},
   "outputs": [
    {
     "name": "stdout",
     "output_type": "stream",
     "text": [
      "\"asia-east1-a\",\"asia-east1-b\",\"asia-east1-c\",\"asia-east2-a\",\"asia-east2-b\",\"asia-east2-c\",\"asia-northeast1-a\",\"asia-northeast1-b\",\"asia-northeast1-c\",\"asia-northeast2-a\",\"asia-northeast2-b\",\"asia-northeast2-c\",\"asia-northeast3-a\",\"asia-northeast3-b\",\"asia-northeast3-c\",\"asia-south1-a\",\"asia-south1-b\",\"asia-south1-c\",\"asia-south2-a\",\"asia-south2-b\",\"asia-south2-c\",\"asia-southeast1-a\",\"asia-southeast1-b\",\"asia-southeast1-c\",\"asia-southeast2-a\",\"asia-southeast2-b\",\"asia-southeast2-c\",\"australia-southeast1-a\",\"australia-southeast1-b\",\"australia-southeast1-c\",\"australia-southeast2-a\",\"australia-southeast2-b\",\"australia-southeast2-c\",\"europe-central2-a\",\"europe-central2-b\",\"europe-central2-c\",\"europe-north1-a\",\"europe-north1-b\",\"europe-north1-c\",\"europe-west1-b\",\"europe-west1-c\",\"europe-west1-d\",\"europe-west2-a\",\"europe-west2-b\",\"europe-west2-c\",\"europe-west3-a\",\"europe-west3-b\",\"europe-west3-c\",\"europe-west4-a\",\"europe-west4-b\",\"europe-west4-c\",\"europe-west6-a\",\"europe-west6-b\",\"europe-west6-c\",\"northamerica-northeast1-a\",\"northamerica-northeast1-b\",\"northamerica-northeast1-c\",\"southamerica-east1-a\",\"southamerica-east1-b\",\"southamerica-east1-c\",\"us-central1-a\",\"us-central1-b\",\"us-central1-c\",\"us-central1-f\",\"us-east1-b\",\"us-east1-c\",\"us-east1-d\",\"us-east4-a\",\"us-east4-b\",\"us-east4-c\",\"us-west1-a\",\"us-west1-b\",\"us-west1-c\",\"us-west2-a\",\"us-west2-b\",\"us-west2-c\",\"us-west3-a\",\"us-west3-b\",\"us-west3-c\",\"us-west4-a\",\"us-west4-b\",\"us-west4-c\","
     ]
    }
   ],
   "source": [
    "count=0\n",
    "for i in data:\n",
    "    count+=1\n",
    "    print('\"'+i['az'],end='\",')"
   ]
  },
  {
   "cell_type": "code",
   "execution_count": 14,
   "metadata": {},
   "outputs": [
    {
     "name": "stdout",
     "output_type": "stream",
     "text": [
      "82\n"
     ]
    }
   ],
   "source": [
    "print(count)"
   ]
  },
  {
   "cell_type": "code",
   "execution_count": 16,
   "metadata": {},
   "outputs": [
    {
     "name": "stdout",
     "output_type": "stream",
     "text": [
      "\"10.10.3.0/24\",\"10.10.4.0/24\",\"10.10.5.0/24\",\"10.10.6.0/24\",\"10.10.7.0/24\",\"10.10.8.0/24\",\"10.10.9.0/24\",\"10.10.10.0/24\",\"10.10.11.0/24\",\"10.10.12.0/24\",\"10.10.13.0/24\",\"10.10.14.0/24\",\"10.10.15.0/24\",\"10.10.16.0/24\",\"10.10.17.0/24\",\"10.10.18.0/24\",\"10.10.19.0/24\",\"10.10.20.0/24\",\"10.10.21.0/24\",\"10.10.22.0/24\",\"10.10.23.0/24\",\"10.10.24.0/24\",\"10.10.25.0/24\",\"10.10.26.0/24\",\"10.10.27.0/24\",\"10.10.28.0/24\",\"10.10.29.0/24\",\"10.10.30.0/24\",\"10.10.31.0/24\",\"10.10.32.0/24\",\"10.10.33.0/24\",\"10.10.34.0/24\",\"10.10.35.0/24\",\"10.10.36.0/24\",\"10.10.37.0/24\",\"10.10.38.0/24\",\"10.10.39.0/24\",\"10.10.40.0/24\",\"10.10.41.0/24\",\"10.10.42.0/24\",\"10.10.43.0/24\",\"10.10.44.0/24\",\"10.10.45.0/24\",\"10.10.46.0/24\",\"10.10.47.0/24\",\"10.10.48.0/24\",\"10.10.49.0/24\",\"10.10.50.0/24\",\"10.10.51.0/24\",\"10.10.52.0/24\",\"10.10.53.0/24\",\"10.10.54.0/24\",\"10.10.55.0/24\",\"10.10.56.0/24\",\"10.10.57.0/24\",\"10.10.58.0/24\",\"10.10.59.0/24\",\"10.10.60.0/24\",\"10.10.61.0/24\",\"10.10.62.0/24\",\"10.10.63.0/24\",\"10.10.64.0/24\",\"10.10.65.0/24\",\"10.10.66.0/24\",\"10.10.67.0/24\",\"10.10.68.0/24\",\"10.10.69.0/24\",\"10.10.70.0/24\",\"10.10.71.0/24\",\"10.10.72.0/24\",\"10.10.73.0/24\",\"10.10.74.0/24\",\"10.10.75.0/24\",\"10.10.76.0/24\",\"10.10.77.0/24\",\"10.10.78.0/24\",\"10.10.79.0/24\",\"10.10.80.0/24\",\"10.10.81.0/24\",\"10.10.82.0/24\",\"10.10.83.0/24\",\"10.10.84.0/24\",\"10.10.85.0/24\","
     ]
    }
   ],
   "source": [
    "ip=\"10.10.2.0/24\"\n",
    "for i in range(3,count+4):\n",
    "    print('\"'+\"10.10.\"+ str(i)+\".0/24\",end='\",')"
   ]
  }
 ],
 "metadata": {
  "kernelspec": {
   "display_name": "Python 3",
   "language": "python",
   "name": "python3"
  },
  "language_info": {
   "codemirror_mode": {
    "name": "ipython",
    "version": 3
   },
   "file_extension": ".py",
   "mimetype": "text/x-python",
   "name": "python",
   "nbconvert_exporter": "python",
   "pygments_lexer": "ipython3",
   "version": "3.8.0"
  },
  "orig_nbformat": 4,
  "vscode": {
   "interpreter": {
    "hash": "74b810b0469f31e4a9a49cf463fa7093a9e91884c4b136ffc9bac8f7d9a0d814"
   }
  }
 },
 "nbformat": 4,
 "nbformat_minor": 2
}
